{
  "nbformat": 4,
  "nbformat_minor": 0,
  "metadata": {
    "colab": {
      "provenance": []
    },
    "kernelspec": {
      "name": "python3",
      "display_name": "Python 3"
    },
    "language_info": {
      "name": "python"
    }
  },
  "cells": [
    {
      "cell_type": "markdown",
      "source": [
        "## Task\n",
        "- Complete **isHappy** function following the description below\n",
        "\n",
        "### Happy Number\n",
        "Write an algorithm to determine if a number **n** is happy.\n",
        "\n",
        "A **happy number** is a number defined by the following process:\n",
        "\n",
        "* Starting with any positive integer, replace the number by the sum of the squares of its digits.\n",
        "* Repeat the process until the number equals 1 (where it will stay), or it **loops endlessly in a cycle** which does not include 1.\n",
        "* Those numbers for which this process **ends in 1** are happy.\n",
        "\n",
        "Return **true** if n is a happy number, and **false** if not.\n",
        "\n",
        "Constraints:\n",
        "1 <= n <= $2^{31}$ - 1"
      ],
      "metadata": {
        "id": "TV3Socqg8BVl"
      }
    },
    {
      "cell_type": "code",
      "execution_count": 26,
      "metadata": {
        "id": "5FcxitVf5kdQ",
        "colab": {
          "base_uri": "https://localhost:8080/"
        },
        "outputId": "c971f003-d141-43c6-ee27-afc2e159482d"
      },
      "outputs": [
        {
          "output_type": "stream",
          "name": "stdout",
          "text": [
            "Input: 907\n",
            "True\n"
          ]
        }
      ],
      "source": [
        "# 양의 정수로 시작, 각 자릿수의 제곱의 합으로 숫자를 바꿈\n",
        "# 이 과정을 반복, 숫자가 1이 되거나 / 1을 포함하지 않은 무한loop 될 때까지\n",
        "# 1로 끝나면 happy number (True)\n",
        "\n",
        "# def isHappy(n):\n",
        "\n",
        "#   return\n",
        "\n",
        "def isHappy(n): #19\n",
        "\n",
        "  arr = []\n",
        "\n",
        "  while n != 1:\n",
        "    if n in arr:\n",
        "      return False\n",
        "\n",
        "    arr.append(n)\n",
        "\n",
        "    num_sum = 0\n",
        "\n",
        "    while (n>0):\n",
        "      div_n = n // 10         #1            8 0         6 0          10 1\n",
        "      rem_n = n % 10          #9 1          2 8         8 6          0 0\n",
        "      n = div_n               #n=1          n=8 n=0     n=6 0        n=10 1\n",
        "      num_sum += rem_n ** 2   #81+1 (82),   4+64(68),   64+36(100),  0+1(1)\n",
        "    n = num_sum\n",
        "\n",
        "  return True\n",
        "\n",
        "n = int(input(\"Input: \"))\n",
        "print(isHappy(n))\n"
      ]
    },
    {
      "cell_type": "markdown",
      "source": [
        "**Testcase 1.**\n",
        "\n",
        "**Input**: 19\n",
        "\n",
        "**Output**: True\n",
        "\n",
        "**Explanation**:\n",
        "\n",
        "$1^2 + 9^2 = 82$\n",
        "\n",
        "$8^2 + 2^2 = 68$\n",
        "\n",
        "$6^2 + 8^2 = 100$\n",
        "\n",
        "$1^2 + 0^2 + 0^2 = 1$"
      ],
      "metadata": {
        "id": "eRrh24Ognrqf"
      }
    },
    {
      "cell_type": "markdown",
      "source": [
        "**Testcase 2.**\n",
        "\n",
        "**Input**: 2\n",
        "\n",
        "**Output**: False"
      ],
      "metadata": {
        "id": "dE7YMY8qoPoj"
      }
    }
  ]
}